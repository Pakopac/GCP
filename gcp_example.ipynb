{
 "cells": [
  {
   "cell_type": "code",
   "execution_count": 216,
   "metadata": {},
   "outputs": [],
   "source": [
    "import pandas as pd\n",
    "class DataHandler:\n",
    "    \"\"\"\n",
    "        Get data from GSC Bucket \n",
    "    \"\"\"\n",
    "    def __init__(self):\n",
    "        self.csvfile1 = None\n",
    "        self.csvfile2 = None\n",
    "        self.gouped_data = None\n",
    "    def get_data(self):\n",
    "        print(\" - - - fetch data from gcs bucket : - - - \")\n",
    "        listing = pd.read_csv('datas/listings_final.csv', sep=';')\n",
    "        prices = pd.read_csv('datas/price_availability.csv', sep=';')\n",
    "        self.csvfile1, self.csvfile2 = listing, prices  \n",
    "        return \" - - - data loaded - - - \\nFiles : \\n  - listing {} \\n  - prices {}\".format(listing.shape,prices.shape)\n",
    "    def group_data(self):\n",
    "        data = self.csvfile2.groupby('listing_id')['local_price'].mean()\n",
    "        self.gouped_data = pd.merge(data, self.csvfile1, on='listing_id')\n",
    "        print(\" - - - data merged - - - \")\n",
    "    def get_process_data(self):\n",
    "        self.get_data()\n",
    "        self.group_data()\n",
    "        print(\" - - - data processed - - - \")"
   ]
  },
  {
   "cell_type": "code",
   "execution_count": 217,
   "metadata": {},
   "outputs": [
    {
     "name": "stdout",
     "output_type": "stream",
     "text": [
      " - - - fetch data from gcs bucket : - - - \n",
      " - - - data merged - - - \n",
      " - - - data processed - - - \n",
      "CPU times: user 0 ns, sys: 0 ns, total: 0 ns\n",
      "Wall time: 6.68 µs\n"
     ]
    }
   ],
   "source": [
    "data = DataHandler()\n",
    "data.get_process_data()\n",
    "%time "
   ]
  },
  {
   "cell_type": "code",
   "execution_count": 218,
   "metadata": {},
   "outputs": [],
   "source": [
    "class FeatureRecipe(DataHandler):\n",
    "    \"\"\"\n",
    "    Feature processing class\n",
    "    \"\"\"\n",
    "    def __init__(self, data: pd.DataFrame):\n",
    "        self.data = data\n",
    "        self.category = None\n",
    "        self.discrete_variable = None\n",
    "        self.continous_variable = None\n",
    "        \n",
    "    #Useless feature\n",
    "    def drop_useless(self):\n",
    "        self.data = self.data.drop(columns=['name', 'Unnamed: 0'])\n",
    "        print(\"- - - drop useless columns - - - \")\n",
    "        \n",
    "    def deal_duplicate(self):\n",
    "        self.data = self.data.drop_duplicates(subset =\"listing_id\") \n",
    "        print(\"- - - drop duplicated index - - - \")\n",
    "    \n",
    "    \n",
    "    #NaN\n",
    "    def drop_nan(self, thresold: float):\n",
    "        if (self.data.isna().sum().mean() < thresold):\n",
    "            self.data = self.data.dropna()\n",
    "            print(\"- - - drop NaN values - - - \")\n",
    "            \n",
    "    #Separate feature for feature engineering\n",
    "    def separate_variable_types(self) -> None:\n",
    "        self.data.select_dtypes(include='bool')*1\n",
    "        self.category = self.data.select_dtypes(include='object')\n",
    "        self.discrete_variable = self.data.select_dtypes(include='int64')\n",
    "        self.continous_variable = self.data.select_dtypes(include='float64')\n",
    "        print(\"- - - separate variable types - - - \")\n",
    "\n",
    "    #Datetime\n",
    "    def deal_dtime(self):\n",
    "        pass\n",
    "    \n",
    "    def prepare_data(self, thresold: float):\n",
    "        \"\"\"\n",
    "        Wrap code above\n",
    "        \"\"\"\n",
    "        self.drop_useless()\n",
    "        self.deal_duplicate()\n",
    "        self.drop_nan(thresold)\n",
    "        self.separate_variable_types()\n",
    "        self.deal_dtime()\n",
    "        print(\"- - - data processed - - -\")"
   ]
  },
  {
   "cell_type": "code",
   "execution_count": 219,
   "metadata": {},
   "outputs": [
    {
     "name": "stdout",
     "output_type": "stream",
     "text": [
      "- - - drop useless columns - - - \n",
      "- - - drop duplicated index - - - \n",
      "- - - drop NaN values - - - \n",
      "- - - separate variable types - - - \n",
      "- - - data processed - - -\n",
      "CPU times: user 0 ns, sys: 0 ns, total: 0 ns\n",
      "Wall time: 6.91 µs\n"
     ]
    }
   ],
   "source": [
    "recipe = FeatureRecipe(data.gouped_data)\n",
    "recipe.prepare_data(6)\n",
    "%time "
   ]
  },
  {
   "cell_type": "code",
   "execution_count": null,
   "metadata": {},
   "outputs": [],
   "source": []
  },
  {
   "cell_type": "code",
   "execution_count": null,
   "metadata": {},
   "outputs": [],
   "source": []
  }
 ],
 "metadata": {
  "kernelspec": {
   "display_name": "Python 3",
   "language": "python",
   "name": "python3"
  },
  "language_info": {
   "codemirror_mode": {
    "name": "ipython",
    "version": 3
   },
   "file_extension": ".py",
   "mimetype": "text/x-python",
   "name": "python",
   "nbconvert_exporter": "python",
   "pygments_lexer": "ipython3",
   "version": "3.6.9"
  }
 },
 "nbformat": 4,
 "nbformat_minor": 2
}
