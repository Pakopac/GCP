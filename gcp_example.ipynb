{
 "cells": [
  {
   "cell_type": "code",
   "execution_count": 4,
   "metadata": {},
   "outputs": [],
   "source": [
    "import pandas as pd\n",
    "class DataHandler:\n",
    "    def __init__(self):\n",
    "        self.df_prices = None\n",
    "        self.df_listing = None\n",
    "        self.df_merged = None\n",
    "    def get_data(self):\n",
    "        self.df_prices = pd.read_csv(\"datas/price_availability.csv\", sep=\";\")\n",
    "        self.df_listing = pd.read_csv(\"datas/listings_final.csv\", sep=\";\")\n",
    "    def group_data(self):\n",
    "        df_merged = pd.merge(self.df_listing, self.df_prices, on='listing_id')\n",
    "        mean_prices = df_merged.groupby(['listing_id'])[\"local_price\"].mean()\n",
    "        self.df_prices = pd.merge(self.df_prices, mean_prices, on='listing_id')\n",
    "        self.df_merged = pd.merge(self.df_listing, self.df_prices, on='listing_id')\n",
    "        print(self.df_merged)\n",
    "    def get_process_data(self):\n",
    "        self.get_data()\n",
    "        self.group_data()"
   ]
  },
  {
   "cell_type": "code",
   "execution_count": 5,
   "metadata": {},
   "outputs": [
    {
     "name": "stdout",
     "output_type": "stream",
     "text": [
      "        Unnamed: 0  listing_id              name          type   city  \\\n",
      "0                0    28581061   La maison Clery  private_room  Paris   \n",
      "1                0    28581061   La maison Clery  private_room  Paris   \n",
      "2                0    28581061   La maison Clery  private_room  Paris   \n",
      "3                0    28581061   La maison Clery  private_room  Paris   \n",
      "4                0    28581061   La maison Clery  private_room  Paris   \n",
      "...            ...         ...               ...           ...    ...   \n",
      "402611         999    28682896  Village Jourdain  private_room  Paris   \n",
      "402612         999    28682896  Village Jourdain  private_room  Paris   \n",
      "402613         999    28682896  Village Jourdain  private_room  Paris   \n",
      "402614         999    28682896  Village Jourdain  private_room  Paris   \n",
      "402615         999    28682896  Village Jourdain  private_room  Paris   \n",
      "\n",
      "                        neighborhood   latitude  longitude  person_capacity  \\\n",
      "0                  2e arrondissement  48.869292   2.348335                1   \n",
      "1                  2e arrondissement  48.869292   2.348335                1   \n",
      "2                  2e arrondissement  48.869292   2.348335                1   \n",
      "3                  2e arrondissement  48.869292   2.348335                1   \n",
      "4                  2e arrondissement  48.869292   2.348335                1   \n",
      "...                              ...        ...        ...              ...   \n",
      "402611  Buttes-Chaumont - Belleville  48.875425   2.395240                2   \n",
      "402612  Buttes-Chaumont - Belleville  48.875425   2.395240                2   \n",
      "402613  Buttes-Chaumont - Belleville  48.875425   2.395240                2   \n",
      "402614  Buttes-Chaumont - Belleville  48.875425   2.395240                2   \n",
      "402615  Buttes-Chaumont - Belleville  48.875425   2.395240                2   \n",
      "\n",
      "        beds  ...  is_business_travel_ready  pricing_weekly_factor  \\\n",
      "0          1  ...                     False                    1.0   \n",
      "1          1  ...                     False                    1.0   \n",
      "2          1  ...                     False                    1.0   \n",
      "3          1  ...                     False                    1.0   \n",
      "4          1  ...                     False                    1.0   \n",
      "...      ...  ...                       ...                    ...   \n",
      "402611     1  ...                     False                    1.0   \n",
      "402612     1  ...                     False                    1.0   \n",
      "402613     1  ...                     False                    1.0   \n",
      "402614     1  ...                     False                    1.0   \n",
      "402615     1  ...                     False                    1.0   \n",
      "\n",
      "        pricing_monthly_factor         day                       created  \\\n",
      "0                          1.0  2018-10-28  2018-09-27 10:40:22.000+0000   \n",
      "1                          1.0  2018-10-28  2018-09-27 06:06:07.000+0000   \n",
      "2                          1.0  2018-10-28  2018-09-26 19:31:53.000+0000   \n",
      "3                          1.0  2018-09-01  2018-09-27 10:40:22.000+0000   \n",
      "4                          1.0  2018-09-01  2018-09-27 06:06:07.000+0000   \n",
      "...                        ...         ...                           ...   \n",
      "402611                     1.0  2018-10-16  2018-09-27 06:16:22.000+0000   \n",
      "402612                     1.0  2018-10-16  2018-09-26 19:36:28.000+0000   \n",
      "402613                     1.0  2018-09-10  2018-09-27 10:50:12.000+0000   \n",
      "402614                     1.0  2018-09-10  2018-09-27 06:16:22.000+0000   \n",
      "402615                     1.0  2018-09-10  2018-09-26 19:36:28.000+0000   \n",
      "\n",
      "        available  local_currency  local_price_x  min_nights local_price_y  \n",
      "0           False             EUR             47           1     45.948454  \n",
      "1           False             EUR             47           1     45.948454  \n",
      "2           False             EUR             47           1     45.948454  \n",
      "3            True             EUR             47           1     45.948454  \n",
      "4            True             EUR             47           1     45.948454  \n",
      "...           ...             ...            ...         ...           ...  \n",
      "402611       True             EUR             40           1     39.503937  \n",
      "402612       True             EUR             39           1     39.503937  \n",
      "402613       True             EUR             39           1     39.503937  \n",
      "402614       True             EUR             39           1     39.503937  \n",
      "402615       True             EUR             39           1     39.503937  \n",
      "\n",
      "[402616 rows x 26 columns]\n"
     ]
    }
   ],
   "source": [
    "data = DataHandler()\n",
    "data.get_process_data()"
   ]
  },
  {
   "cell_type": "code",
   "execution_count": null,
   "metadata": {},
   "outputs": [],
   "source": []
  }
 ],
 "metadata": {
  "kernelspec": {
   "display_name": "Python 3",
   "language": "python",
   "name": "python3"
  },
  "language_info": {
   "codemirror_mode": {
    "name": "ipython",
    "version": 3
   },
   "file_extension": ".py",
   "mimetype": "text/x-python",
   "name": "python",
   "nbconvert_exporter": "python",
   "pygments_lexer": "ipython3",
   "version": "3.6.9"
  }
 },
 "nbformat": 4,
 "nbformat_minor": 2
}
